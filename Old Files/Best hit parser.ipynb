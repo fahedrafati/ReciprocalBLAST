{
 "cells": [
  {
   "cell_type": "code",
   "execution_count": 3,
   "metadata": {},
   "outputs": [
    {
     "name": "stdout",
     "output_type": "stream",
     "text": [
      "BLAST Result A:f\n",
      "BLAST Result B:f\n",
      "Output file:f\n"
     ]
    },
    {
     "ename": "FileNotFoundError",
     "evalue": "[Errno 2] No such file or directory: 'f'",
     "output_type": "error",
     "traceback": [
      "\u001b[0;31m---------------------------------------------------------------------------\u001b[0m",
      "\u001b[0;31mFileNotFoundError\u001b[0m                         Traceback (most recent call last)",
      "\u001b[0;32m<ipython-input-3-8248632599d1>\u001b[0m in \u001b[0;36m<module>\u001b[0;34m()\u001b[0m\n\u001b[1;32m     11\u001b[0m \u001b[0;34m\u001b[0m\u001b[0m\n\u001b[1;32m     12\u001b[0m \u001b[0;31m#parse first BLAST results\u001b[0m\u001b[0;34m\u001b[0m\u001b[0;34m\u001b[0m\u001b[0m\n\u001b[0;32m---> 13\u001b[0;31m \u001b[0mFL1\u001b[0m \u001b[0;34m=\u001b[0m \u001b[0mopen\u001b[0m\u001b[0;34m(\u001b[0m\u001b[0minfl1\u001b[0m\u001b[0;34m,\u001b[0m \u001b[0;34m'r'\u001b[0m\u001b[0;34m)\u001b[0m\u001b[0;34m\u001b[0m\u001b[0m\n\u001b[0m\u001b[1;32m     14\u001b[0m \u001b[0mD1\u001b[0m \u001b[0;34m=\u001b[0m \u001b[0;34m{\u001b[0m\u001b[0;34m}\u001b[0m \u001b[0;31m#dictionary for BLAST file ONE\u001b[0m\u001b[0;34m\u001b[0m\u001b[0m\n\u001b[1;32m     15\u001b[0m \u001b[0;32mfor\u001b[0m \u001b[0mLine\u001b[0m \u001b[0;32min\u001b[0m \u001b[0mFL1\u001b[0m\u001b[0;34m:\u001b[0m\u001b[0;34m\u001b[0m\u001b[0m\n",
      "\u001b[0;31mFileNotFoundError\u001b[0m: [Errno 2] No such file or directory: 'f'"
     ]
    }
   ],
   "source": [
    "import sys, re\n",
    "\n",
    "if len(sys.argv) < 3:\n",
    "    print(Usage)\n",
    " \n",
    "debug = 9\n",
    "\n",
    "infl1 = input(\"BLAST Result A:\")\n",
    "infl2 = input(\"BLAST Result B:\")\n",
    "outfile = input(\"Output file:\")\n",
    "\n",
    "#parse first BLAST results\n",
    "FL1 = open(infl1, 'r')\n",
    "D1 = {} #dictionary for BLAST file ONE\n",
    "for Line in FL1:\n",
    "    if ( Line[0] != '#' ):\n",
    "        Line.strip()\n",
    "        Elements = re.split('\\t', Line)\n",
    "        queryId = Elements[0]\n",
    "        subjectId = Elements[1]\n",
    "        if ( not ( queryId in D1.keys() ) ):\n",
    "            D1[queryId] = subjectId  #pick the first hit\n",
    "\n",
    "if (debug): D1.keys() \n",
    "\n",
    "#parse second BLAST results\n",
    "FL2 = open(infl2, 'r')\n",
    "D2 = {}\n",
    "for Line in FL2:\n",
    "    if ( Line[0] != '#' ):\n",
    "        Line.strip()\n",
    "        Elements = re.split('\\t', Line)\n",
    "        queryId = Elements[0]\n",
    "        subjectId = Elements[1]\n",
    "        if ( not ( queryId in D2.keys() ) ):\n",
    "            D2[queryId] = subjectId  #pick the first hit\n",
    "\n",
    "if (debug): D2.keys() \n",
    "\n",
    "#Now, pick the share pairs\n",
    "\n",
    "SharedPairs={}\n",
    "for id1 in D1.keys():\n",
    "    value1 = D1[id1]\n",
    "    if ( value1 in D2.keys() ):\n",
    "        if ( id1 == D2[value1] ) : #a shared best reciprocal pair\n",
    "            SharedPairs[value1] = id1\n",
    "\n",
    "if (debug): SharedPairs \n",
    "\n",
    "#outfl = open(\"_out.csv\", \"w\")\n",
    "outfl = open( outfile, 'w')\n",
    "\n",
    "for k1 in SharedPairs.keys():\n",
    "    line = k1 + '\\t' + SharedPairs[k1] + '\\n'\n",
    "    outfl.write(line)\n",
    "    \n",
    "outfl.close()\n",
    "\n",
    "print(\"Done. RBH from\", infl1, \"and\", infl2, \"are in\", outfile)"
   ]
  },
  {
   "cell_type": "code",
   "execution_count": null,
   "metadata": {
    "collapsed": true
   },
   "outputs": [],
   "source": []
  }
 ],
 "metadata": {
  "kernelspec": {
   "display_name": "Python 3",
   "language": "python",
   "name": "python3"
  },
  "language_info": {
   "codemirror_mode": {
    "name": "ipython",
    "version": 3
   },
   "file_extension": ".py",
   "mimetype": "text/x-python",
   "name": "python",
   "nbconvert_exporter": "python",
   "pygments_lexer": "ipython3",
   "version": "3.6.3"
  }
 },
 "nbformat": 4,
 "nbformat_minor": 2
}
